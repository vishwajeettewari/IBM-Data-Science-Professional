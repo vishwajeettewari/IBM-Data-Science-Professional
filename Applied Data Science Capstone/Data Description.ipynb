{
 "cells": [
  {
   "cell_type": "markdown",
   "metadata": {},
   "source": [
    "## The Battle of Neighborhoods"
   ]
  },
  {
   "cell_type": "markdown",
   "metadata": {},
   "source": [
    "#### Data Description"
   ]
  },
  {
   "cell_type": "markdown",
   "metadata": {},
   "source": [
    "The goal of this project is the segmentation, exploration and clustering of neighborhoods in Toronto. The key data for this task to be achieved is the Toronto neighborhood data. The structured data for this purpose is not readily available on the inter-net in structured format. Therefore we will scrap the data from the inter-net using scraping libraries in python to achieve a structured dataset from Wikipedia Toronto neighborhood data page which contains all the necessary information needed for this project. The structured dataset should contain the latitudes and longitudes of the each and every neighborhood for exploring and analyzing further venues. The data needs to be cleaned and prepared and the key information factors will be needed in the final recommendation report to the management. The following data is critical for the project:\n",
    "\n",
    "1. Neighborhood Name\n",
    "2. Neighborhood Latitude\n",
    "3. Neighborhood Longitude\n",
    "4. Number of residences in each Neighborhood"
   ]
  },
  {
   "cell_type": "code",
   "execution_count": 4,
   "metadata": {},
   "outputs": [
    {
     "data": {
      "text/html": [
       "<div>\n",
       "<style scoped>\n",
       "    .dataframe tbody tr th:only-of-type {\n",
       "        vertical-align: middle;\n",
       "    }\n",
       "\n",
       "    .dataframe tbody tr th {\n",
       "        vertical-align: top;\n",
       "    }\n",
       "\n",
       "    .dataframe thead th {\n",
       "        text-align: right;\n",
       "    }\n",
       "</style>\n",
       "<table border=\"1\" class=\"dataframe\">\n",
       "  <thead>\n",
       "    <tr style=\"text-align: right;\">\n",
       "      <th></th>\n",
       "      <th>Postal code</th>\n",
       "      <th>Borough</th>\n",
       "      <th>Neighborhood</th>\n",
       "      <th>Latitude</th>\n",
       "      <th>Longitude</th>\n",
       "    </tr>\n",
       "  </thead>\n",
       "  <tbody>\n",
       "    <tr>\n",
       "      <th>0</th>\n",
       "      <td>M4E</td>\n",
       "      <td>East Toronto</td>\n",
       "      <td>The Beaches</td>\n",
       "      <td>43.676357</td>\n",
       "      <td>-79.293031</td>\n",
       "    </tr>\n",
       "    <tr>\n",
       "      <th>1</th>\n",
       "      <td>M4K</td>\n",
       "      <td>East Toronto</td>\n",
       "      <td>The Danforth West , Riverdale</td>\n",
       "      <td>43.679557</td>\n",
       "      <td>-79.352188</td>\n",
       "    </tr>\n",
       "    <tr>\n",
       "      <th>2</th>\n",
       "      <td>M4L</td>\n",
       "      <td>East Toronto</td>\n",
       "      <td>India Bazaar , The Beaches West</td>\n",
       "      <td>43.668999</td>\n",
       "      <td>-79.315572</td>\n",
       "    </tr>\n",
       "    <tr>\n",
       "      <th>3</th>\n",
       "      <td>M4M</td>\n",
       "      <td>East Toronto</td>\n",
       "      <td>Studio District</td>\n",
       "      <td>43.659526</td>\n",
       "      <td>-79.340923</td>\n",
       "    </tr>\n",
       "    <tr>\n",
       "      <th>4</th>\n",
       "      <td>M4N</td>\n",
       "      <td>Central Toronto</td>\n",
       "      <td>Lawrence Park</td>\n",
       "      <td>43.728020</td>\n",
       "      <td>-79.388790</td>\n",
       "    </tr>\n",
       "  </tbody>\n",
       "</table>\n",
       "</div>"
      ],
      "text/plain": [
       "  Postal code          Borough                     Neighborhood   Latitude  \\\n",
       "0         M4E     East Toronto                      The Beaches  43.676357   \n",
       "1         M4K     East Toronto    The Danforth West , Riverdale  43.679557   \n",
       "2         M4L     East Toronto  India Bazaar , The Beaches West  43.668999   \n",
       "3         M4M     East Toronto                  Studio District  43.659526   \n",
       "4         M4N  Central Toronto                    Lawrence Park  43.728020   \n",
       "\n",
       "   Longitude  \n",
       "0 -79.293031  \n",
       "1 -79.352188  \n",
       "2 -79.315572  \n",
       "3 -79.340923  \n",
       "4 -79.388790  "
      ]
     },
     "execution_count": 4,
     "metadata": {},
     "output_type": "execute_result"
    }
   ],
   "source": [
    "#A look at the head of the downloaded and processed dataset format processed for Neighborhoods contatining the string 'Toronto'\n",
    "import pandas as pd\n",
    "df = pd.read_csv('Toronto Dataset.csv')\n",
    "df.drop(columns = 'Unnamed: 0', inplace = True)\n",
    "df.head()"
   ]
  },
  {
   "cell_type": "markdown",
   "metadata": {},
   "source": [
    "#### Data Features"
   ]
  },
  {
   "cell_type": "markdown",
   "metadata": {},
   "source": [
    "We use a reliable location information provider such as the Foursquare.com to explore the various types of venues and its categories available in each neighborhood. We will also understand the trending of these venues in their respective neighborhoods. The informative dataset gathered should be containing the following information columns in a structured form:\n",
    "\n",
    "1. Neighborhood\n",
    "2. Neighborhood Latitude\n",
    "3. Neighborhood Longitude\n",
    "4. Venue Name\n",
    "5. Venue Category\n",
    "6. Venue Latitude\n",
    "7. Venue Longitude"
   ]
  },
  {
   "cell_type": "markdown",
   "metadata": {},
   "source": [
    "#### Conclusion"
   ]
  },
  {
   "cell_type": "markdown",
   "metadata": {},
   "source": [
    "Clustering methods like K-means Clustering can be used to segment and cluster these neighborhoods for grouping them and understanding their similarities and creating the model accordingly.\n",
    "\n",
    "With the above defined features and techniques with all the collected and prepared data, we can come up with the clusters of neighborhoods which are best and worse suited to be suggested to the management of the (XYZ) on-line grocery store for starting the first on-line delivery service for their store. Neighborhoods with high competition and less demands will be avoided by the model as they are not suited best for the company for profit maximization and cost cutting."
   ]
  }
 ],
 "metadata": {
  "kernelspec": {
   "display_name": "Python",
   "language": "python",
   "name": "conda-env-python-py"
  },
  "language_info": {
   "codemirror_mode": {
    "name": "ipython",
    "version": 3
   },
   "file_extension": ".py",
   "mimetype": "text/x-python",
   "name": "python",
   "nbconvert_exporter": "python",
   "pygments_lexer": "ipython3",
   "version": "3.6.10"
  }
 },
 "nbformat": 4,
 "nbformat_minor": 4
}
