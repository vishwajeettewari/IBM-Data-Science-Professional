{
 "cells": [
  {
   "cell_type": "markdown",
   "metadata": {},
   "source": [
    "## The Battle of Neighborhoods"
   ]
  },
  {
   "cell_type": "markdown",
   "metadata": {},
   "source": [
    "### COURSERA INTRODUCTION / BUSINESS PROBLEM"
   ]
  },
  {
   "cell_type": "markdown",
   "metadata": {},
   "source": [
    "Toronto is the provincial capital of Ontario and the most populous city in Canada, with a population of 2,731,571 as of 2016.\n",
    "It's an international center of business, finance, arts, and culture, and is recognized as one of the most multicultural and cosmopolitan cities in the world. \n",
    "\n",
    "The city is home to the Toronto Stock Exchange, the headquarters of Canada's five largest banks, and the headquarters of many large Canadian and multinational corporations. Its economy is highly diversified with strengths in technology, design, financial services, life sciences, education, arts, fashion, aerospace, environmental innovation, food services, and tourism. \n",
    "\n",
    "This clearly highlight's the fact that Toronto has no issues attracting different business player's in the market and also that it is a highly competitive and a well developed city. The cost of setting up a business in Toronto is approximately one of the highest in Canada. Therefore, any kind of business venture or startup should be reviewed carefully and strategically planned so as to maximize the return of investment and more importantly to reduce the risk of investment by working strategically."
   ]
  },
  {
   "cell_type": "markdown",
   "metadata": {},
   "source": [
    " "
   ]
  },
  {
   "cell_type": "markdown",
   "metadata": {},
   "source": [
    "### Problem Description"
   ]
  },
  {
   "cell_type": "markdown",
   "metadata": {},
   "source": [
    "The problem states that a new online grocery delivery store (XYZ) wants to resolve their branch setup in the country. As it is provided that it is a well-funded organization they need to choose the location of the first location for the start very carefully keeping in mind the above necessary points. The success of this initial strategy would in turn eventually lead to the replication of this strategy. By the principal of first mover benefit, the choice of first location (Neighborhood) is important to the company."
   ]
  },
  {
   "cell_type": "markdown",
   "metadata": {},
   "source": [
    "  "
   ]
  },
  {
   "cell_type": "markdown",
   "metadata": {},
   "source": [
    "### Target Audience"
   ]
  },
  {
   "cell_type": "markdown",
   "metadata": {},
   "source": [
    "To solve this problem, a Data Scientist team lead by myself has been put to task by the (XYZ) online grocery store. The objective of the project is to find and report the most appropriate choices of location to the management for starting the first online delivery service in Toronto. The management also expects to understand the rationale of recommendations in the report. "
   ]
  },
  {
   "cell_type": "markdown",
   "metadata": {},
   "source": [
    " "
   ]
  },
  {
   "cell_type": "markdown",
   "metadata": {},
   "source": [
    "### Success Criteria"
   ]
  },
  {
   "cell_type": "markdown",
   "metadata": {},
   "source": [
    "The success of the project is a good recommendation provided to the management of the XYZ chain for the choice of best neighborhood in Toronto based on two key factors: less similar stores in the neighborhood (lesser the grocery stores more chances of meeting the demands with less competition), higher number of residences (higher the population nearby, higher the demand)."
   ]
  }
 ],
 "metadata": {
  "kernelspec": {
   "display_name": "Python",
   "language": "python",
   "name": "conda-env-python-py"
  },
  "language_info": {
   "codemirror_mode": {
    "name": "ipython",
    "version": 3
   },
   "file_extension": ".py",
   "mimetype": "text/x-python",
   "name": "python",
   "nbconvert_exporter": "python",
   "pygments_lexer": "ipython3",
   "version": "3.6.10"
  }
 },
 "nbformat": 4,
 "nbformat_minor": 4
}
